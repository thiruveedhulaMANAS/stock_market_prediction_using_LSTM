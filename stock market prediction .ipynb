{
 "cells": [
  {
   "cell_type": "code",
   "execution_count": null,
   "id": "a645fb70",
   "metadata": {},
   "outputs": [],
   "source": [
    "import pandas as pd\n",
    "import numpy as np"
   ]
  },
  {
   "cell_type": "code",
   "execution_count": null,
   "id": "1995f9fc",
   "metadata": {},
   "outputs": [],
   "source": [
    "dataset= pd.read_csv(\"apple_dataset.csv\")\n",
    "dataset.tail(10)"
   ]
  },
  {
   "cell_type": "code",
   "execution_count": null,
   "id": "18200836",
   "metadata": {},
   "outputs": [],
   "source": [
    "#checking any null values is present or not\n",
    "x = dataset.isnull().sum()\n",
    "x"
   ]
  },
  {
   "cell_type": "code",
   "execution_count": null,
   "id": "1be27683",
   "metadata": {},
   "outputs": [],
   "source": [
    "loss= dataset[['close']]\n",
    "list_loss = np.array(loss)\n",
    "list_loss.shape"
   ]
  },
  {
   "cell_type": "code",
   "execution_count": null,
   "id": "12091815",
   "metadata": {},
   "outputs": [],
   "source": [
    "from sklearn.preprocessing import MinMaxScaler\n",
    "scaler = MinMaxScaler()\n",
    "list_loss = scaler.fit_transform(list_loss)"
   ]
  },
  {
   "cell_type": "code",
   "execution_count": null,
   "id": "1e59e3f2",
   "metadata": {},
   "outputs": [],
   "source": [
    "import matplotlib.pyplot as plt\n",
    "plt.plot(list_loss)"
   ]
  },
  {
   "cell_type": "code",
   "execution_count": null,
   "id": "2146dd6e",
   "metadata": {},
   "outputs": [],
   "source": [
    "n_train_data = int(len(list_loss)/1.6)\n",
    "train_data = list_loss[:n_train_data]\n",
    "n_test_data = (len(list_loss) - n_train_data)\n",
    "test_data =  list_loss[n_train_data:]\n"
   ]
  },
  {
   "cell_type": "code",
   "execution_count": null,
   "id": "fc063632",
   "metadata": {},
   "outputs": [],
   "source": [
    "def create_dataset(dataset, time_step=1):\n",
    "\tdataX, dataY = [], []\n",
    "\tfor i in range(len(dataset)-time_step-1):\n",
    "\t\ta = dataset[i:(i+time_step), 0]   ###i=0, 0,1,2,3-----99   100 \n",
    "\t\tdataX.append(a)\n",
    "\t\tdataY.append(dataset[i + time_step, 0])\n",
    "\treturn np.array(dataX), np.array(dataY)"
   ]
  },
  {
   "cell_type": "code",
   "execution_count": null,
   "id": "760d8913",
   "metadata": {},
   "outputs": [],
   "source": [
    "time_step = 100\n",
    "X_train,Y_train = create_dataset(train_data,time_step)\n",
    "X_test,y_test = create_dataset(test_data,time_step)"
   ]
  },
  {
   "cell_type": "code",
   "execution_count": null,
   "id": "64f0fd8c",
   "metadata": {},
   "outputs": [],
   "source": [
    "X_test.shape"
   ]
  },
  {
   "cell_type": "code",
   "execution_count": null,
   "id": "4b0d96a1",
   "metadata": {},
   "outputs": [],
   "source": [
    "Y_train.shape"
   ]
  },
  {
   "cell_type": "code",
   "execution_count": null,
   "id": "dc17fbda",
   "metadata": {},
   "outputs": [],
   "source": [
    "X_train =X_train.reshape(X_train.shape[0],X_train.shape[1] , 1)\n",
    "X_test = X_test.reshape(X_test.shape[0],X_test.shape[1] , 1)"
   ]
  },
  {
   "cell_type": "code",
   "execution_count": null,
   "id": "25ea0d7a",
   "metadata": {},
   "outputs": [],
   "source": [
    "from tensorflow.keras.models import Sequential\n",
    "from tensorflow.keras.layers import Dense,LSTM\n",
    "from tensorflow import keras"
   ]
  },
  {
   "cell_type": "code",
   "execution_count": null,
   "id": "6b28951f",
   "metadata": {},
   "outputs": [],
   "source": [
    "model = Sequential()\n",
    "model.add(LSTM(128,return_sequences=True))\n",
    "model.add(LSTM(50,return_sequences=True))\n",
    "model.add(LSTM(50))\n",
    "model.add(Dense(1)) \n",
    "model.compile(loss='mse',optimizer='adam')"
   ]
  },
  {
   "cell_type": "code",
   "execution_count": null,
   "id": "5f418107",
   "metadata": {},
   "outputs": [],
   "source": [
    "model.fit(X_train,Y_train,epochs=100,verbose=1,validation_data=(X_test,y_test))"
   ]
  },
  {
   "cell_type": "code",
   "execution_count": null,
   "id": "a17c9b64",
   "metadata": {},
   "outputs": [],
   "source": [
    "train_prediction = model.predict(X_train)\n",
    "test_prediction = model.predict(X_test)\n",
    "test_prediction"
   ]
  },
  {
   "cell_type": "code",
   "execution_count": null,
   "id": "8158a72d",
   "metadata": {},
   "outputs": [],
   "source": [
    "train_prediction = scaler.inverse_transform(train_prediction)\n",
    "test_prediction = scaler.inverse_transform(test_prediction)\n",
    "test_prediction"
   ]
  },
  {
   "cell_type": "code",
   "execution_count": null,
   "id": "20f31fad",
   "metadata": {},
   "outputs": [],
   "source": [
    "train_prediction"
   ]
  },
  {
   "cell_type": "code",
   "execution_count": null,
   "id": "1fa94366",
   "metadata": {},
   "outputs": [],
   "source": [
    "plt.plot(train_prediction)"
   ]
  },
  {
   "cell_type": "code",
   "execution_count": null,
   "id": "d849e51d",
   "metadata": {},
   "outputs": [],
   "source": [
    "plt.plot(test_prediction)"
   ]
  },
  {
   "cell_type": "code",
   "execution_count": null,
   "id": "9bf79089",
   "metadata": {},
   "outputs": [],
   "source": [
    "len(test_data)"
   ]
  },
  {
   "cell_type": "code",
   "execution_count": null,
   "id": "01af3e6a",
   "metadata": {},
   "outputs": [],
   "source": [
    "x_input=test_data[371:].reshape(1,-1)\n",
    "x_input.shape\n"
   ]
  },
  {
   "cell_type": "code",
   "execution_count": null,
   "id": "e5a51bd2",
   "metadata": {},
   "outputs": [],
   "source": [
    "temp_input = list(x_input)\n",
    "temp_input = x_input[0].tolist()\n",
    "len(temp_input)"
   ]
  },
  {
   "cell_type": "code",
   "execution_count": null,
   "id": "1ee80b77",
   "metadata": {},
   "outputs": [],
   "source": [
    "lst_output=[]\n",
    "n_steps=100\n",
    "i=0\n",
    "while(i<30):\n",
    "    \n",
    "    if(len(temp_input)>100):\n",
    "        #print(temp_input)\n",
    "        x_input=np.array(temp_input[1:])\n",
    "        print(\"{} day input {}\".format(i,x_input))\n",
    "        x_input=x_input.reshape(1,-1)\n",
    "        x_input = x_input.reshape((1, n_steps, 1))\n",
    "        #print(x_input)\n",
    "        yhat = model.predict(x_input, verbose=0)\n",
    "        print(\"{} day output {}\".format(i,yhat))\n",
    "        temp_input.extend(yhat[0].tolist())\n",
    "        temp_input=temp_input[1:]\n",
    "        #print(temp_input)\n",
    "        lst_output.extend(yhat.tolist())\n",
    "        i=i+1\n",
    "    else:\n",
    "        x_input = x_input.reshape((1, n_steps,1))\n",
    "        yhat = model.predict(x_input, verbose=0)\n",
    "        print(yhat[0])\n",
    "        temp_input.extend(yhat[0].tolist())\n",
    "        print(len(temp_input))\n",
    "        lst_output.extend(yhat.tolist())\n",
    "        i=i+1\n",
    "    \n",
    "\n",
    "print(lst_output)"
   ]
  },
  {
   "cell_type": "code",
   "execution_count": null,
   "id": "1bb2a674",
   "metadata": {},
   "outputs": [],
   "source": [
    "day_new=np.arange(1,101)\n",
    "day_pred=np.arange(101,131)"
   ]
  },
  {
   "cell_type": "code",
   "execution_count": null,
   "id": "e832dabf",
   "metadata": {},
   "outputs": [],
   "source": [
    "x = scaler.inverse_transform(list_loss[1156:])\n",
    "y = scaler.inverse_transform(lst_output)"
   ]
  },
  {
   "cell_type": "code",
   "execution_count": null,
   "id": "fe7c1cb8",
   "metadata": {},
   "outputs": [],
   "source": [
    "y"
   ]
  },
  {
   "cell_type": "code",
   "execution_count": null,
   "id": "a182c400",
   "metadata": {},
   "outputs": [],
   "source": [
    "x"
   ]
  },
  {
   "cell_type": "code",
   "execution_count": null,
   "id": "53c082c3",
   "metadata": {},
   "outputs": [],
   "source": [
    "#predicting next 30 days\n",
    "plt.plot(day_new,scaler.inverse_transform(list_loss[1156:]))\n",
    "plt.plot(day_pred,scaler.inverse_transform(lst_output))"
   ]
  },
  {
   "cell_type": "code",
   "execution_count": null,
   "id": "85a7f965",
   "metadata": {},
   "outputs": [],
   "source": [
    "df3=list_loss.tolist()\n",
    "df3.extend(lst_output)\n",
    "plt.plot(df3[1200:])"
   ]
  },
  {
   "cell_type": "code",
   "execution_count": null,
   "id": "d549df4e",
   "metadata": {},
   "outputs": [],
   "source": []
  }
 ],
 "metadata": {
  "kernelspec": {
   "display_name": "Python 3 (ipykernel)",
   "language": "python",
   "name": "python3"
  },
  "language_info": {
   "codemirror_mode": {
    "name": "ipython",
    "version": 3
   },
   "file_extension": ".py",
   "mimetype": "text/x-python",
   "name": "python",
   "nbconvert_exporter": "python",
   "pygments_lexer": "ipython3",
   "version": "3.11.3"
  }
 },
 "nbformat": 4,
 "nbformat_minor": 5
}
